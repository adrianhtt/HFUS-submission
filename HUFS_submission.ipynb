{
 "cells": [
  {
   "cell_type": "markdown",
   "metadata": {},
   "source": [
    "# Importing necessary libraries"
   ]
  },
  {
   "cell_type": "code",
   "execution_count": null,
   "metadata": {},
   "outputs": [],
   "source": [
    "import collections\n",
    "import numpy as np\n",
    "np.random.seed(0)\n",
    "import tensorflow as tf\n",
    "from tensorflow.python.keras.optimizer_v2 import gradient_descent\n",
    "from tensorflow_federated import python as tff\n",
    "from random import choices\n",
    "import pandas as pd\n",
    "import random\n",
    "import nest_asyncio\n",
    "nest_asyncio.apply()\n",
    "import matplotlib.pyplot as plt\n",
    "from tensorflow.keras import backend as K"
   ]
  },
  {
   "cell_type": "markdown",
   "metadata": {},
   "source": [
    "# Loading csv files"
   ]
  },
  {
   "cell_type": "code",
   "execution_count": null,
   "metadata": {},
   "outputs": [],
   "source": [
    "LOGDIR = 'D:\\OneDrive - Palladium International, LLC\\Machine Learning\\Preprocessed'"
   ]
  },
  {
   "cell_type": "code",
   "execution_count": null,
   "metadata": {},
   "outputs": [],
   "source": [
    "df1 = pd.read_csv(f'{LOGDIR}/mHealth_subject1.csv')\n",
    "df2 = pd.read_csv(f'{LOGDIR}/mHealth_subject2.csv')\n",
    "df3 = pd.read_csv(f'{LOGDIR}/mHealth_subject3.csv')\n",
    "df4 = pd.read_csv(f'{LOGDIR}/mHealth_subject4.csv')\n",
    "df5 = pd.read_csv(f'{LOGDIR}/mHealth_subject5.csv')\n",
    "df6 = pd.read_csv(f'{LOGDIR}/mHealth_subject6.csv')\n",
    "df7 = pd.read_csv(f'{LOGDIR}/mHealth_subject7.csv')\n",
    "df8 = pd.read_csv(f'{LOGDIR}/mHealth_subject8.csv')\n",
    "df9 = pd.read_csv(f'{LOGDIR}/mHealth_subject9.csv')\n",
    "df10 = pd.read_csv(f'{LOGDIR}/mHealth_subject10.csv')"
   ]
  },
  {
   "cell_type": "markdown",
   "metadata": {},
   "source": [
    "# Inserting column names"
   ]
  },
  {
   "cell_type": "code",
   "execution_count": null,
   "metadata": {},
   "outputs": [],
   "source": [
    "def insert_column_names(df):\n",
    "    \n",
    "    df.columns = ['Chest Sensor Acc X',\n",
    "                  'Chest Sensor Acc Y',\n",
    "                  'Chest Sensor Acc Z',\n",
    "                  'Left-Ankle Sensor Acc X',\n",
    "                  'Left-Ankle Sensor Acc Y',\n",
    "                  'Left-Ankle Sensor Acc Z',\n",
    "                  'Left-Ankle Sensor Gyro X',\n",
    "                  'Left-Ankle Sensor Gyro Y',\n",
    "                  'Left-Ankle Sensor Gyro Z',\n",
    "                  'Left-Ankle Sensor Mgnt X',\n",
    "                  'Left-Ankle Sensor Mgnt Y',\n",
    "                  'Left-Ankle Sensor Mgnt Z',\n",
    "                  'Right-Lower-Arm Sensor Acc X',\n",
    "                  'Right-Lower-Arm Sensor Acc Y',\n",
    "                  'Right-Lower-Arm Sensor Acc Z',\n",
    "                  'Right-Lower-Arm Sensor Gyro X',\n",
    "                  'Right-Lower-Arm Sensor Gyro Y',\n",
    "                  'Right-Lower-Arm Sensor Gyro Z',\n",
    "                  'Right-Lower-Arm Sensor Mgnt X',\n",
    "                  'Right-Lower-Arm Sensor Mgnt Y',\n",
    "                  'Right-Lower-Arm Sensor Mgnt Z',\n",
    "                  'Activity']\n",
    "    return df"
   ]
  },
  {
   "cell_type": "code",
   "execution_count": null,
   "metadata": {},
   "outputs": [],
   "source": [
    "insert_column_names(df1)\n",
    "insert_column_names(df2)\n",
    "insert_column_names(df3)\n",
    "insert_column_names(df4)\n",
    "insert_column_names(df5)\n",
    "insert_column_names(df6)\n",
    "insert_column_names(df7)\n",
    "insert_column_names(df8)\n",
    "insert_column_names(df9)\n",
    "insert_column_names(df10)"
   ]
  },
  {
   "cell_type": "markdown",
   "metadata": {},
   "source": [
    "# Dropping null-label (0) from the datasets and shuffling them "
   ]
  },
  {
   "cell_type": "code",
   "execution_count": null,
   "metadata": {},
   "outputs": [],
   "source": [
    "df1 = df1[df1['Activity'] != 0].sample(frac=1).reset_index().drop('index',axis=1)\n",
    "df2 = df2[df2['Activity'] != 0].sample(frac=1).reset_index().drop('index',axis=1)\n",
    "df3 = df3[df3['Activity'] != 0].sample(frac=1).reset_index().drop('index',axis=1)\n",
    "df4 = df4[df4['Activity'] != 0].sample(frac=1).reset_index().drop('index',axis=1)\n",
    "df5 = df5[df5['Activity'] != 0].sample(frac=1).reset_index().drop('index',axis=1)\n",
    "df6 = df6[df6['Activity'] != 0].sample(frac=1).reset_index().drop('index',axis=1)\n",
    "df7 = df7[df7['Activity'] != 0].sample(frac=1).reset_index().drop('index',axis=1)\n",
    "df8 = df8[df8['Activity'] != 0].sample(frac=1).reset_index().drop('index',axis=1)\n",
    "df9 = df9[df9['Activity'] != 0].sample(frac=1).reset_index().drop('index',axis=1)\n",
    "df10 = df10[df10['Activity'] != 0].sample(frac=1).reset_index().drop('index',axis=1)"
   ]
  },
  {
   "cell_type": "markdown",
   "metadata": {},
   "source": [
    "# Splitting Train, Test, and Validation (hold-out) datasets"
   ]
  },
  {
   "cell_type": "markdown",
   "metadata": {},
   "source": [
    "## Stratified Random Sampling is used to capture each client inside the Test dataset"
   ]
  },
  {
   "cell_type": "code",
   "execution_count": null,
   "metadata": {},
   "outputs": [],
   "source": [
    "x_client_1 = df1.drop('Activity', axis=1)[0:round(0.9*len(df1))].astype('float32')\n",
    "y_client_1 = df1['Activity'][0:round(0.9*len(df1))].astype('int32')\n",
    "x_test_1 = df1.drop('Activity', axis=1)[round(0.9*len(df1)):].astype('float32')\n",
    "y_test_1 = df1['Activity'][round(0.9*len(df1)):].astype('int32')\n",
    "\n",
    "x_client_2 = df2.drop('Activity', axis=1)[0:round(0.9*len(df2))].astype('float32')\n",
    "y_client_2 = df2['Activity'][0:round(0.9*len(df2))].astype('int32')\n",
    "x_test_2 = df2.drop('Activity', axis=1)[round(0.9*len(df2)):].astype('float32')\n",
    "y_test_2 = df2['Activity'][round(0.9*len(df2)):].astype('int32')\n",
    "\n",
    "x_client_3 = df3.drop('Activity', axis=1)[0:round(0.9*len(df3))].astype('float32')\n",
    "y_client_3 = df3['Activity'][0:round(0.9*len(df3))].astype('int32')\n",
    "x_test_3 = df3.drop('Activity', axis=1)[round(0.9*len(df3)):].astype('float32')\n",
    "y_test_3 = df3['Activity'][round(0.9*len(df3)):].astype('int32')\n",
    "\n",
    "x_client_4 = df4.drop('Activity', axis=1)[0:round(0.9*len(df4))].astype('float32')\n",
    "y_client_4 = df4['Activity'][0:round(0.9*len(df4))].astype('int32')\n",
    "x_test_4 = df4.drop('Activity', axis=1)[round(0.9*len(df4)):].astype('float32')\n",
    "y_test_4 = df4['Activity'][round(0.9*len(df4)):].astype('int32')\n",
    "\n",
    "x_client_5 = df5.drop('Activity', axis=1)[0:round(0.9*len(df5))].astype('float32')\n",
    "y_client_5 = df5['Activity'][0:round(0.9*len(df5))].astype('int32')\n",
    "x_test_5 = df5.drop('Activity', axis=1)[round(0.9*len(df5)):].astype('float32')\n",
    "y_test_5 = df5['Activity'][round(0.9*len(df5)):].astype('int32')\n",
    "\n",
    "x_client_6 = df6.drop('Activity', axis=1)[0:round(0.9*len(df6))].astype('float32')\n",
    "y_client_6 = df6['Activity'][0:round(0.9*len(df6))].astype('int32')\n",
    "x_test_6 = df6.drop('Activity', axis=1)[round(0.9*len(df6)):].astype('float32')\n",
    "y_test_6 = df6['Activity'][round(0.9*len(df6)):].astype('int32')\n",
    "\n",
    "x_client_7 = df7.drop('Activity', axis=1)[0:round(0.9*len(df7))].astype('float32')\n",
    "y_client_7 = df7['Activity'][0:round(0.9*len(df7))].astype('int32')\n",
    "x_test_7 = df7.drop('Activity', axis=1)[round(0.9*len(df7)):].astype('float32')\n",
    "y_test_7 = df7['Activity'][round(0.9*len(df7)):].astype('int32')\n",
    "\n",
    "x_client_8 = df8.drop('Activity', axis=1)[0:round(0.9*len(df8))].astype('float32')\n",
    "y_client_8 = df8['Activity'][0:round(0.9*len(df8))].astype('int32')\n",
    "x_test_8 = df8.drop('Activity', axis=1)[round(0.9*len(df8)):].astype('float32')\n",
    "y_test_8 = df8['Activity'][round(0.9*len(df8)):].astype('int32')\n"
   ]
  },
  {
   "cell_type": "code",
   "execution_count": null,
   "metadata": {},
   "outputs": [],
   "source": [
    "x_test_all = pd.concat([x_test_1, \n",
    "                        x_test_2,\n",
    "                        x_test_3,\n",
    "                        x_test_4,\n",
    "                        x_test_5,\n",
    "                        x_test_6,\n",
    "                        x_test_7,\n",
    "                        x_test_8], ignore_index = True)\n",
    "\n",
    "\n",
    "y_test_all = pd.concat([y_test_1, \n",
    "                        y_test_2,\n",
    "                        y_test_3,\n",
    "                        y_test_4,\n",
    "                        y_test_5,\n",
    "                        y_test_6,\n",
    "                        y_test_7,\n",
    "                        y_test_8], ignore_index = True)\n"
   ]
  },
  {
   "cell_type": "code",
   "execution_count": null,
   "metadata": {},
   "outputs": [],
   "source": [
    "val_df = df9.append(df10).reset_index().drop('index', axis=1)\n",
    "\n",
    "x_val = val_df.drop('Activity', axis=1).astype('float32')\n",
    "\n",
    "y_val = val_df['Activity'].astype('int32')"
   ]
  },
  {
   "cell_type": "markdown",
   "metadata": {},
   "source": [
    "# Creating federated data that is compatible with Tensorflow Federated library"
   ]
  },
  {
   "cell_type": "code",
   "execution_count": null,
   "metadata": {},
   "outputs": [],
   "source": [
    "def create_federated_data(x,y):\n",
    "    \n",
    "    orderDict = collections.OrderedDict()\n",
    "    \n",
    "    orderDict['x'] = np.array(x)\n",
    "    orderDict['y'] = np.array(y).reshape(-1,1)\n",
    "    dataset = tf.data.Dataset.from_tensor_slices(orderDict)\n",
    "    batch = dataset.shuffle(100).batch(1000)\n",
    "    \n",
    "    return batch"
   ]
  },
  {
   "cell_type": "code",
   "execution_count": null,
   "metadata": {},
   "outputs": [],
   "source": [
    "TRAINING_EPOCHS = 10\n",
    "\n",
    "\n",
    "\n",
    "federated_data_client_1 = [create_federated_data(x_client_1, y_client_1) for epoch in range(TRAINING_EPOCHS)]\n",
    "federated_data_client_2 = [create_federated_data(x_client_2, y_client_2) for epoch in range(TRAINING_EPOCHS)]\n",
    "federated_data_client_3 = [create_federated_data(x_client_3, y_client_3) for epoch in range(TRAINING_EPOCHS)]\n",
    "federated_data_client_4 = [create_federated_data(x_client_4, y_client_4) for epoch in range(TRAINING_EPOCHS)]\n",
    "federated_data_client_5 = [create_federated_data(x_client_5, y_client_5) for epoch in range(TRAINING_EPOCHS)]\n",
    "federated_data_client_6 = [create_federated_data(x_client_6, y_client_6) for epoch in range(TRAINING_EPOCHS)]\n",
    "federated_data_client_7 = [create_federated_data(x_client_7, y_client_7) for epoch in range(TRAINING_EPOCHS)]\n",
    "federated_data_client_8 = [create_federated_data(x_client_8, y_client_8) for epoch in range(TRAINING_EPOCHS)]\n",
    "\n",
    "federated_data_test = [create_federated_data(x_test_all, y_test_all) for epoch in range(TRAINING_EPOCHS)]\n",
    "\n",
    "federated_data_val = [create_federated_data(x_val, y_val) for epoch in range(TRAINING_EPOCHS)]"
   ]
  },
  {
   "cell_type": "markdown",
   "metadata": {},
   "source": [
    "# Displaying example dataset"
   ]
  },
  {
   "cell_type": "code",
   "execution_count": null,
   "metadata": {},
   "outputs": [],
   "source": [
    "example_dataset = tf.nest.map_structure(lambda x: x.numpy(), iter(federated_data_client_1[0]).next())\n",
    "example_dataset"
   ]
  },
  {
   "cell_type": "markdown",
   "metadata": {},
   "source": [
    "# Creating simple Keras model architechture"
   ]
  },
  {
   "cell_type": "code",
   "execution_count": null,
   "metadata": {},
   "outputs": [],
   "source": [
    "from tensorflow.keras.models import Sequential\n",
    "from tensorflow.keras.layers import Dense, Flatten, Dropout\n",
    "from tensorflow.keras.optimizers import SGD, Adam\n",
    "from tensorflow.keras.losses import SparseCategoricalCrossentropy, CategoricalCrossentropy\n",
    "from tensorflow.keras.metrics import SparseCategoricalAccuracy, CategoricalAccuracy\n",
    "from tensorflow.compat.v1.keras.layers import CuDNNLSTM"
   ]
  },
  {
   "cell_type": "code",
   "execution_count": null,
   "metadata": {},
   "outputs": [],
   "source": [
    "def create_keras_model():\n",
    "    model = Sequential()\n",
    "    \n",
    "    model.add(Dense(256, input_shape = (21, ), activation = 'relu'))\n",
    "    \n",
    "    model.add(Dense(128,  activation = 'relu'))\n",
    "    \n",
    "    model.add(Dense(128,  activation = 'relu'))\n",
    "    \n",
    "    model.add(Dense(64, activation = 'relu'))\n",
    "\n",
    "    model.add(Dense(6, activation = 'softmax'))\n",
    "    \n",
    "    return model"
   ]
  },
  {
   "cell_type": "code",
   "execution_count": null,
   "metadata": {},
   "outputs": [],
   "source": [
    "keras_model = create_keras_model()\n",
    "keras_model.summary()"
   ]
  },
  {
   "cell_type": "markdown",
   "metadata": {},
   "source": [
    "# Defining input spec"
   ]
  },
  {
   "cell_type": "code",
   "execution_count": null,
   "metadata": {},
   "outputs": [],
   "source": [
    "spec = collections.OrderedDict([\n",
    "    ('x', tf.TensorSpec((None ,21), dtype = tf.dtypes.float32, name=None)),\n",
    "    ('y', tf.TensorSpec((None ,1), dtype = tf.dtypes.int32, name=None))])"
   ]
  },
  {
   "cell_type": "markdown",
   "metadata": {},
   "source": [
    "# Creating Keras model"
   ]
  },
  {
   "cell_type": "code",
   "execution_count": null,
   "metadata": {},
   "outputs": [],
   "source": [
    "def model_fn():\n",
    "    keras_model = create_keras_model()\n",
    "    \n",
    "    return tff.learning.from_keras_model(\n",
    "        keras_model,\n",
    "        input_spec = spec,\n",
    "        loss = tf.keras.losses.SparseCategoricalCrossentropy(),\n",
    "        metrics = [tf.keras.metrics.SparseCategoricalAccuracy()])"
   ]
  },
  {
   "cell_type": "markdown",
   "metadata": {},
   "source": [
    "# Defining Federated Averaging Process using Tensorflow Federated"
   ]
  },
  {
   "cell_type": "code",
   "execution_count": null,
   "metadata": {},
   "outputs": [],
   "source": [
    "trainer = tff.learning.build_federated_averaging_process(model_fn,\n",
    "                                                         client_optimizer_fn = lambda: tf.keras.optimizers.Adam(learning_rate=0.02, clipnorm = 1.0),\n",
    "                                                         server_optimizer_fn = lambda: tf.keras.optimizers.Adam(learning_rate = 0.02, clipnorm = 1.0))"
   ]
  },
  {
   "cell_type": "code",
   "execution_count": null,
   "metadata": {},
   "outputs": [],
   "source": [
    "train_state = trainer.initialize()"
   ]
  },
  {
   "cell_type": "markdown",
   "metadata": {},
   "source": [
    "# Training Federated Model locally for each client (simulation)"
   ]
  },
  {
   "cell_type": "markdown",
   "metadata": {},
   "source": [
    "## CLIENT 1"
   ]
  },
  {
   "cell_type": "code",
   "execution_count": null,
   "metadata": {},
   "outputs": [],
   "source": [
    "print('========== Train on Local Device of Client 1 ==========')\n",
    "\n",
    "history_accuracy_1 = []\n",
    "history_loss_1 = []\n",
    "\n",
    "for round_num in range(30):\n",
    "    train_state, train_metrics = trainer.next(train_state, federated_data_client_1)\n",
    "    history_accuracy_1.append(train_metrics['train']['sparse_categorical_accuracy'])\n",
    "    history_loss_1.append(train_metrics['train']['loss'])\n",
    "    print('round {:2d}, metrics={}'.format(round_num, train_metrics))\n",
    "\n",
    "# Show accuracy diagram\n",
    "plt.title('Model Accuracy for Client 1')\n",
    "plt.plot(history_accuracy_1, label='accuracy')\n",
    "plt.xlabel('Epoch')\n",
    "plt.ylabel('Accuracy')\n",
    "plt.show()\n",
    "\n",
    "# Show loss diagram\n",
    "plt.title('Model Loss for Client 1')\n",
    "plt.plot(history_loss_1, label='loss')\n",
    "plt.xlabel('Epoch')\n",
    "plt.ylabel('Loss')\n",
    "plt.show()"
   ]
  },
  {
   "cell_type": "markdown",
   "metadata": {},
   "source": [
    "## CLIENT 2"
   ]
  },
  {
   "cell_type": "code",
   "execution_count": null,
   "metadata": {},
   "outputs": [],
   "source": [
    "print('========== Train on Local Device of Client 2 ==========')\n",
    "\n",
    "history_accuracy_1 = []\n",
    "history_loss_1 = []\n",
    "\n",
    "for round_num in range(30):\n",
    "    train_state, train_metrics = trainer.next(train_state, federated_data_client_2)\n",
    "    history_accuracy_1.append(train_metrics['train']['sparse_categorical_accuracy'])\n",
    "    history_loss_1.append(train_metrics['train']['loss'])\n",
    "    print('round {:2d}, metrics={}'.format(round_num, train_metrics))\n",
    "\n",
    "# Show accuracy diagram\n",
    "plt.title('Model Accuracy for Client 2')\n",
    "plt.plot(history_accuracy_1, label='accuracy')\n",
    "plt.xlabel('Epoch')\n",
    "plt.ylabel('Accuracy')\n",
    "plt.show()\n",
    "\n",
    "# Show loss diagram\n",
    "plt.title('Model Loss for Client 2')\n",
    "plt.plot(history_loss_1, label='loss')\n",
    "plt.xlabel('Epoch')\n",
    "plt.ylabel('Loss')\n",
    "plt.show()"
   ]
  },
  {
   "cell_type": "markdown",
   "metadata": {},
   "source": [
    "## CLIENT 3"
   ]
  },
  {
   "cell_type": "code",
   "execution_count": null,
   "metadata": {},
   "outputs": [],
   "source": [
    "print('========== Train on Local Device of Client 3 ==========')\n",
    "\n",
    "history_accuracy_1 = []\n",
    "history_loss_1 = []\n",
    "\n",
    "for round_num in range(30):\n",
    "    train_state, train_metrics = trainer.next(train_state, federated_data_client_3)\n",
    "    history_accuracy_1.append(train_metrics['train']['sparse_categorical_accuracy'])\n",
    "    history_loss_1.append(train_metrics['train']['loss'])\n",
    "    print('round {:2d}, metrics={}'.format(round_num, train_metrics))\n",
    "\n",
    "# Show accuracy diagram\n",
    "plt.title('Model Accuracy for Client 3')\n",
    "plt.plot(history_accuracy_1, label='accuracy')\n",
    "plt.xlabel('Epoch')\n",
    "plt.ylabel('Accuracy')\n",
    "plt.show()\n",
    "\n",
    "# Show loss diagram\n",
    "plt.title('Model Loss for Client 3')\n",
    "plt.plot(history_loss_1, label='loss')\n",
    "plt.xlabel('Epoch')\n",
    "plt.ylabel('Loss')\n",
    "plt.show()"
   ]
  },
  {
   "cell_type": "markdown",
   "metadata": {},
   "source": [
    "## CLIENT 4"
   ]
  },
  {
   "cell_type": "code",
   "execution_count": null,
   "metadata": {},
   "outputs": [],
   "source": [
    "print('========== Train on Local Device of Client 4 ==========')\n",
    "\n",
    "history_accuracy_1 = []\n",
    "history_loss_1 = []\n",
    "\n",
    "for round_num in range(30):\n",
    "    train_state, train_metrics = trainer.next(train_state, federated_data_client_4)\n",
    "    history_accuracy_1.append(train_metrics['train']['sparse_categorical_accuracy'])\n",
    "    history_loss_1.append(train_metrics['train']['loss'])\n",
    "    print('round {:2d}, metrics={}'.format(round_num, train_metrics))\n",
    "\n",
    "# Show accuracy diagram\n",
    "plt.title('Model Accuracy for Client 4')\n",
    "plt.plot(history_accuracy_1, label='accuracy')\n",
    "plt.xlabel('Epoch')\n",
    "plt.ylabel('Accuracy')\n",
    "plt.show()\n",
    "\n",
    "# Show loss diagram\n",
    "plt.title('Model Loss for Client 4')\n",
    "plt.plot(history_loss_1, label='loss')\n",
    "plt.xlabel('Epoch')\n",
    "plt.ylabel('Loss')\n",
    "plt.show()"
   ]
  },
  {
   "cell_type": "markdown",
   "metadata": {},
   "source": [
    "## CLIENT 5"
   ]
  },
  {
   "cell_type": "code",
   "execution_count": null,
   "metadata": {},
   "outputs": [],
   "source": [
    "print('========== Train on Local Device of Client 5 ==========')\n",
    "\n",
    "history_accuracy_1 = []\n",
    "history_loss_1 = []\n",
    "\n",
    "for round_num in range(30):\n",
    "    train_state, train_metrics = trainer.next(train_state, federated_data_client_5)\n",
    "    history_accuracy_1.append(train_metrics['train']['sparse_categorical_accuracy'])\n",
    "    history_loss_1.append(train_metrics['train']['loss'])\n",
    "    print('round {:2d}, metrics={}'.format(round_num, train_metrics))\n",
    "\n",
    "# Show accuracy diagram\n",
    "plt.title('Model Accuracy for Client 5')\n",
    "plt.plot(history_accuracy_1, label='accuracy')\n",
    "plt.xlabel('Epoch')\n",
    "plt.ylabel('Accuracy')\n",
    "plt.show()\n",
    "\n",
    "# Show loss diagram\n",
    "plt.title('Model Loss for Client 5')\n",
    "plt.plot(history_loss_1, label='loss')\n",
    "plt.xlabel('Epoch')\n",
    "plt.ylabel('Loss')\n",
    "plt.show()"
   ]
  },
  {
   "cell_type": "markdown",
   "metadata": {},
   "source": [
    "## CLIENT 6"
   ]
  },
  {
   "cell_type": "code",
   "execution_count": null,
   "metadata": {},
   "outputs": [],
   "source": [
    "print('========== Train on Local Device of Client 6 ==========')\n",
    "\n",
    "history_accuracy_1 = []\n",
    "history_loss_1 = []\n",
    "\n",
    "for round_num in range(30):\n",
    "    train_state, train_metrics = trainer.next(train_state, federated_data_client_6)\n",
    "    history_accuracy_1.append(train_metrics['train']['sparse_categorical_accuracy'])\n",
    "    history_loss_1.append(train_metrics['train']['loss'])\n",
    "    print('round {:2d}, metrics={}'.format(round_num, train_metrics))\n",
    "\n",
    "# Show accuracy diagram\n",
    "plt.title('Model Accuracy for Client 6')\n",
    "plt.plot(history_accuracy_1, label='accuracy')\n",
    "plt.xlabel('Epoch')\n",
    "plt.ylabel('Accuracy')\n",
    "plt.show()\n",
    "\n",
    "# Show loss diagram\n",
    "plt.title('Model Loss for Client 6')\n",
    "plt.plot(history_loss_1, label='loss')\n",
    "plt.xlabel('Epoch')\n",
    "plt.ylabel('Loss')\n",
    "plt.show()"
   ]
  },
  {
   "cell_type": "markdown",
   "metadata": {},
   "source": [
    "## CLIENT 7"
   ]
  },
  {
   "cell_type": "code",
   "execution_count": null,
   "metadata": {},
   "outputs": [],
   "source": [
    "print('========== Train on Local Device of Client 7 ==========')\n",
    "\n",
    "history_accuracy_1 = []\n",
    "history_loss_1 = []\n",
    "\n",
    "for round_num in range(30):\n",
    "    train_state, train_metrics = trainer.next(train_state, federated_data_client_7)\n",
    "    history_accuracy_1.append(train_metrics['train']['sparse_categorical_accuracy'])\n",
    "    history_loss_1.append(train_metrics['train']['loss'])\n",
    "    print('round {:2d}, metrics={}'.format(round_num, train_metrics))\n",
    "\n",
    "# Show accuracy diagram\n",
    "plt.title('Model Accuracy for Client 7')\n",
    "plt.plot(history_accuracy_1, label='accuracy')\n",
    "plt.xlabel('Epoch')\n",
    "plt.ylabel('Accuracy')\n",
    "plt.show()\n",
    "\n",
    "# Show loss diagram\n",
    "plt.title('Model Loss for Client 7')\n",
    "plt.plot(history_loss_1, label='loss')\n",
    "plt.xlabel('Epoch')\n",
    "plt.ylabel('Loss')\n",
    "plt.show()"
   ]
  },
  {
   "cell_type": "markdown",
   "metadata": {},
   "source": [
    "## CLIENT 8"
   ]
  },
  {
   "cell_type": "code",
   "execution_count": null,
   "metadata": {},
   "outputs": [],
   "source": [
    "print('========== Train on Local Device of Client 8 ==========')\n",
    "\n",
    "history_accuracy_1 = []\n",
    "history_loss_1 = []\n",
    "\n",
    "for round_num in range(30):\n",
    "    train_state, train_metrics = trainer.next(train_state, federated_data_client_8)\n",
    "    history_accuracy_1.append(train_metrics['train']['sparse_categorical_accuracy'])\n",
    "    history_loss_1.append(train_metrics['train']['loss'])\n",
    "    print('round {:2d}, metrics={}'.format(round_num, train_metrics))\n",
    "\n",
    "# Show accuracy diagram\n",
    "plt.title('Model Accuracy for Client 8')\n",
    "plt.plot(history_accuracy_1, label='accuracy')\n",
    "plt.xlabel('Epoch')\n",
    "plt.ylabel('Accuracy')\n",
    "plt.show()\n",
    "\n",
    "# Show loss diagram\n",
    "plt.title('Model Loss for Client 8')\n",
    "plt.plot(history_loss_1, label='loss')\n",
    "plt.xlabel('Epoch')\n",
    "plt.ylabel('Loss')\n",
    "plt.show()"
   ]
  },
  {
   "cell_type": "markdown",
   "metadata": {},
   "source": [
    "# Evaluating model on Test dataset"
   ]
  },
  {
   "cell_type": "code",
   "execution_count": null,
   "metadata": {},
   "outputs": [],
   "source": [
    "evaluator = tff.learning.build_federated_evaluation(model_fn)"
   ]
  },
  {
   "cell_type": "code",
   "execution_count": null,
   "metadata": {},
   "outputs": [],
   "source": [
    "test_metrics = evaluator(train_state.model, federated_data_test)\n",
    "test_metrics"
   ]
  },
  {
   "cell_type": "markdown",
   "metadata": {},
   "source": [
    "# Evaluating model on Validation dataset"
   ]
  },
  {
   "cell_type": "code",
   "execution_count": null,
   "metadata": {},
   "outputs": [],
   "source": [
    "val_metrics = evaluator(train_state.model, federated_data_val)\n",
    "val_metrics"
   ]
  }
 ],
 "metadata": {
  "kernelspec": {
   "display_name": "Python 3",
   "language": "python",
   "name": "python3"
  },
  "language_info": {
   "codemirror_mode": {
    "name": "ipython",
    "version": 3
   },
   "file_extension": ".py",
   "mimetype": "text/x-python",
   "name": "python",
   "nbconvert_exporter": "python",
   "pygments_lexer": "ipython3",
   "version": "3.7.6"
  }
 },
 "nbformat": 4,
 "nbformat_minor": 4
}
